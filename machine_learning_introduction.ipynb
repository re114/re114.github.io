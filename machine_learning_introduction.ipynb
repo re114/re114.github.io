{
  "nbformat": 4,
  "nbformat_minor": 0,
  "metadata": {
    "colab": {
      "name": "machine-learning-introduction.ipynb",
      "provenance": [],
      "authorship_tag": "ABX9TyO2rX/VKJInO/PYvK9JRPgr",
      "include_colab_link": true
    },
    "kernelspec": {
      "name": "python3",
      "display_name": "Python 3"
    }
  },
  "cells": [
    {
      "cell_type": "markdown",
      "metadata": {
        "id": "view-in-github",
        "colab_type": "text"
      },
      "source": [
        "<a href=\"https://colab.research.google.com/github/re114/re114.github.io/blob/main/machine_learning_introduction.ipynb\" target=\"_parent\"><img src=\"https://colab.research.google.com/assets/colab-badge.svg\" alt=\"Open In Colab\"/></a>"
      ]
    },
    {
      "cell_type": "markdown",
      "metadata": {
        "id": "0WAGuLD9Xvnd"
      },
      "source": [
        "##Approaches to machine learning\n",
        "###Supervised Learning  \n",
        "In supervised learning we take a set of data and a set of labels that map to the data, xi -> yi, the dataset is split to provide a training set and a test set, the model is trained on the data and labels, and tested on the test data, the aim is to reduce the error. Supervised learning is typically used for Classification or Regression problems.\n",
        "A Regression problem involves predicting a numerical label, an example of regression would be projections of new coronavirus cases based on historic data, or data from other countries such as provided by worldmeter (“United Kingdom Coronavirus cases,” n.d.).\n",
        "A Classification problem aims to identify a class label, an example of a classification problem would be the digit identification we looked at with the MNIST database (LeCunn et al., n.d.), which takes data and label pairs (x,y) x is data y is label, with the goal of learning a function to map x-> y.\n",
        "The MNIST dataset consists of 60000 labelled images of the digits 0-9. (LeCunn et al., n.d.) So a supervised model might take 40000 images and labels as the training set and run the model on these. Once the model is trained it is run with the test data.\n",
        "A good model will give similar test results to training results. A model that has been too closely training is said to have been overfitted to the training data which. This highlights the importance of splitting the data into at least training and test data (better still, training, verification and testing data) sets to prevent unseen correlations from swaying the model.\n",
        "  \n",
        ">“Learning is a search through the space of possible hypotheses for one that will perform well, even on new examples beyond the training set. To measure the accuracy of a hypothesis we give it a test set of examples that are distinct from the training set.”  \n",
        "(Norvig & Stuart, 2010).\n",
        "\n",
        "###Unsupervised learning.  \n",
        "Unsupervised learning does not require labelled data, and instead actively looks for correlations within the data to learn the underlying structure - \"is this thing like another thing?\"\n",
        "Unsupervised learning is typically used for clustering or density estimation problems.\n",
        "An example of a problem addressed by clustering is spam filtering, which can use K-Means clustering to at the email header and content and create groups, or clusters to identify problem emails.(“(28) Lecture 13.2 — Clustering | KMeans Algorithm — [ Machine Learning | Andrew Ng ] - YouTube,” n.d.)\n",
        "\n",
        ">“The most common unsupervised learning task is clustering detecting potentially useful clusters of input examples. For example, a taxi agent might gradually develop a concept of “good traffic days” and “bad traffic days” without ever being given labelled examples of each by a teacher.”  \n",
        "(Norvig & Stuart, 2010).  \n",
        "\n",
        "###Reinforcement learning  \n",
        "Reinforcement learning places the machine learning agent in an environment and lets it learn using feedback and success against a success criterion. It takes data as state action pairs and sets goals based on maximum future rewards over many time steps.\n",
        ">“Reinforcement learning is learning what to do — how to map situations to actions—so as to maximize a numerical reward signal. The learner is not told which actions to take, but instead must discover which actions yield the most reward by trying them.”  \n",
        "(Sutton & Barto, 2018)  \n",
        "An example of reinforcement learning would be the (very popular with Computer Science students) work on AI systems learning to play Video games (Shao, Tang, Zhu, Li, & Zhao, 2018).  \n",
        "\n",
        "  \n",
        "  \n"
      ]
    },
    {
      "cell_type": "markdown",
      "metadata": {
        "id": "LOYrT7OFYX4l"
      },
      "source": [
        "###Neural Networks  \n",
        "It's interesting to consider that the original work undertaken by McCulloch and Pitts (Mcculloch & Pitts, 1990) on neural brain structures as logic gates informed and inspired Von-Neumann's architecture (Ohta, 2015) and his view of the computer as a brain. The paradigm shifted and we began to view the brain as a type of computer, and as we came round to neural networks the analogy switched back once more (Cobb, 2020).  \n",
        "Early work on Neural Networks was carried out by Frank Rosenblatt, who described the structure of the perceptron (Rosenblatt, 1958).  \n",
        "Rosenblatt may have overhyped his findings, and fed a media circus instead of managing expectations (Boden, 2006).  \n",
        "  \n",
        "![Rosenblatts Perceptron](https://raw.githubusercontent.com/re114/robotdraws/main/img/Rosenblatt-perceptron.png)\n",
        "\n",
        "Minksy at MIT published a damning mathematical analysis of Rosenblatt's work (Minsky, 1961) which many cite as precipitating the first AI winter (Boden, 2006) (Norvig & Stuart, 2010). The paper suggested that the perceptron was a dead end for AI as it could not internally represent the things it was learning (Cobb, 2020) and it was not until the adoption of backpropagation that the approach became ascendant again (Y. LeCun et al., 1989).  \n",
        "  \n",
        "###The structure of Neural Networks  \n",
        "Bengio quotes Hinton: \"You have relatively simple processing elements that are very loosely models of neurons. They have connections coming in , each connection has a weight on it, and that weight can be changed through learning” (LeCunn, Bottou, & Haffner, 1998).  \n",
        "  \n",
        "Chollet outlines the processes in the operation of a Neural Network (François Chollet, 2019).  \n",
        "• define  \n",
        "• fit  \n",
        "• predict  \n",
        "• and evaluate  \n",
        "• Initialise weights randomly - or by some insight into the relative importance of hyperparameters.  \n",
        "• loop till convergence  \n",
        "• compute gradient - (derivative)  \n",
        "• update weights  \n",
        "• return weights  \n",
        "In practical terms the aim is to minimise the error. We can describe the error as the absolute difference between the prediction and the results.  \n",
        "\n",
        "```\n",
        "error = ((input * weight) - goal.pred) **2\n",
        "```\n",
        "\n",
        "The weight determines the significance of the input.\n",
        "\n"
      ]
    },
    {
      "cell_type": "markdown",
      "metadata": {
        "id": "jHx0iy1FzJvz"
      },
      "source": [
        "This script trains a basic neural network on a set of labelled data to classify images as either cats or dogs."
      ]
    },
    {
      "cell_type": "code",
      "metadata": {
        "colab": {
          "base_uri": "https://localhost:8080/"
        },
        "id": "Xt9n6cE_kwXU",
        "outputId": "20455fcb-f79b-4cfc-eac8-9683b30bdd05"
      },
      "source": [
        "import tensorflow as tf\n",
        "mnist = tf.keras.datasets.mnist\n",
        "\n",
        "(x_train, y_train), (x_test, y_test) = mnist.load_data()\n",
        "x_train, x_test = x_train / 255.0, x_test / 255.0\n",
        "\n",
        "model = tf.keras.models.Sequential([\n",
        "  tf.keras.layers.Flatten(input_shape=(28, 28)),\n",
        "  tf.keras.layers.Dense(128, activation='relu'),\n",
        "  tf.keras.layers.Dropout(0.2),\n",
        "  tf.keras.layers.Dense(10)\n",
        "])\n",
        "predictions = model(x_train[:1]).numpy()\n",
        "\n",
        "predictions"
      ],
      "execution_count": 1,
      "outputs": [
        {
          "output_type": "stream",
          "text": [
            "Downloading data from https://storage.googleapis.com/tensorflow/tf-keras-datasets/mnist.npz\n",
            "11493376/11490434 [==============================] - 0s 0us/step\n",
            "[[ 0.5176658  -0.13445848  0.02820197  0.04942533 -0.6842776  -0.26025444\n",
            "   0.27671477 -0.6232597  -0.06118366 -0.44626555]]\n"
          ],
          "name": "stdout"
        }
      ]
    },
    {
      "cell_type": "code",
      "metadata": {
        "id": "2G1WLFB_wmko",
        "outputId": "2c1a3751-a91c-48fc-c262-849a6c6bc564",
        "colab": {
          "base_uri": "https://localhost:8080/"
        }
      },
      "source": [
        "tf.nn.softmax(predictions).numpy()\n"
      ],
      "execution_count": 2,
      "outputs": [
        {
          "output_type": "execute_result",
          "data": {
            "text/plain": [
              "array([[0.17962019, 0.09357098, 0.11009909, 0.11246073, 0.05399552,\n",
              "        0.0825104 , 0.14115994, 0.05739281, 0.10068483, 0.06850545]],\n",
              "      dtype=float32)"
            ]
          },
          "metadata": {
            "tags": []
          },
          "execution_count": 2
        }
      ]
    },
    {
      "cell_type": "code",
      "metadata": {
        "id": "C0S9cf7wwss8",
        "outputId": "6b4f7c4c-92ce-4921-8499-f7e51545cd60",
        "colab": {
          "base_uri": "https://localhost:8080/"
        }
      },
      "source": [
        "loss_fn = tf.keras.losses.SparseCategoricalCrossentropy(from_logits=True)\n",
        "loss_fn(y_train[:1], predictions).numpy()\n",
        "model.compile(optimizer='adam',\n",
        "              loss=loss_fn,\n",
        "              metrics=['accuracy'])\n",
        "\n",
        "model.summary()"
      ],
      "execution_count": 4,
      "outputs": [
        {
          "output_type": "stream",
          "text": [
            "Model: \"sequential\"\n",
            "_________________________________________________________________\n",
            "Layer (type)                 Output Shape              Param #   \n",
            "=================================================================\n",
            "flatten (Flatten)            (None, 784)               0         \n",
            "_________________________________________________________________\n",
            "dense (Dense)                (None, 128)               100480    \n",
            "_________________________________________________________________\n",
            "dropout (Dropout)            (None, 128)               0         \n",
            "_________________________________________________________________\n",
            "dense_1 (Dense)              (None, 10)                1290      \n",
            "=================================================================\n",
            "Total params: 101,770\n",
            "Trainable params: 101,770\n",
            "Non-trainable params: 0\n",
            "_________________________________________________________________\n"
          ],
          "name": "stdout"
        }
      ]
    },
    {
      "cell_type": "code",
      "metadata": {
        "id": "v22sNanHw0Bj",
        "outputId": "d7331ef7-f573-4a74-aab3-7ae15d321792",
        "colab": {
          "base_uri": "https://localhost:8080/"
        }
      },
      "source": [
        "model.fit(x_train, y_train, epochs=5)"
      ],
      "execution_count": 5,
      "outputs": [
        {
          "output_type": "stream",
          "text": [
            "Epoch 1/5\n",
            "1875/1875 [==============================] - 4s 2ms/step - loss: 0.4892 - accuracy: 0.8557\n",
            "Epoch 2/5\n",
            "1875/1875 [==============================] - 4s 2ms/step - loss: 0.1582 - accuracy: 0.9536\n",
            "Epoch 3/5\n",
            "1875/1875 [==============================] - 4s 2ms/step - loss: 0.1138 - accuracy: 0.9657\n",
            "Epoch 4/5\n",
            "1875/1875 [==============================] - 3s 2ms/step - loss: 0.0923 - accuracy: 0.9721\n",
            "Epoch 5/5\n",
            "1875/1875 [==============================] - 3s 2ms/step - loss: 0.0743 - accuracy: 0.9774\n"
          ],
          "name": "stdout"
        },
        {
          "output_type": "execute_result",
          "data": {
            "text/plain": [
              "<tensorflow.python.keras.callbacks.History at 0x7f9dc2eb0a10>"
            ]
          },
          "metadata": {
            "tags": []
          },
          "execution_count": 5
        }
      ]
    },
    {
      "cell_type": "code",
      "metadata": {
        "id": "GRBjwz8JxC73"
      },
      "source": [
        ""
      ],
      "execution_count": null,
      "outputs": []
    },
    {
      "cell_type": "code",
      "metadata": {
        "id": "pY8iXFdfxBR2",
        "outputId": "0c251c86-b392-4040-9c07-26868eb56456",
        "colab": {
          "base_uri": "https://localhost:8080/"
        }
      },
      "source": [
        "model.evaluate(x_test,  y_test, verbose=2)\n"
      ],
      "execution_count": 6,
      "outputs": [
        {
          "output_type": "stream",
          "text": [
            "313/313 - 0s - loss: 0.0764 - accuracy: 0.9766\n"
          ],
          "name": "stdout"
        },
        {
          "output_type": "execute_result",
          "data": {
            "text/plain": [
              "[0.07643616944551468, 0.9765999913215637]"
            ]
          },
          "metadata": {
            "tags": []
          },
          "execution_count": 6
        }
      ]
    },
    {
      "cell_type": "code",
      "metadata": {
        "id": "3DAG0aEpxGJm",
        "outputId": "63957c80-3bd9-40b4-d800-fa09d2c49c7d",
        "colab": {
          "base_uri": "https://localhost:8080/"
        }
      },
      "source": [
        "probability_model = tf.keras.Sequential([\n",
        "  model,\n",
        "  tf.keras.layers.Softmax()\n",
        "])\n",
        "\n",
        "probability_model(x_test[:5])\n"
      ],
      "execution_count": 8,
      "outputs": [
        {
          "output_type": "execute_result",
          "data": {
            "text/plain": [
              "<tf.Tensor: shape=(5, 10), dtype=float32, numpy=\n",
              "array([[2.3982443e-09, 6.4169414e-10, 1.0888503e-05, 3.0259458e-05,\n",
              "        3.3600733e-11, 1.7275735e-07, 4.4016707e-15, 9.9995506e-01,\n",
              "        2.0105460e-07, 3.4885350e-06],\n",
              "       [2.0737152e-09, 2.4616753e-03, 9.9752265e-01, 1.4214254e-05,\n",
              "        5.7037852e-15, 3.9163100e-07, 7.7725552e-08, 6.7630531e-13,\n",
              "        9.1622178e-07, 2.7283492e-13],\n",
              "       [2.7055131e-07, 9.9863869e-01, 2.0268162e-04, 5.1933890e-05,\n",
              "        1.9910194e-04, 1.2790084e-05, 1.4361428e-04, 6.0762779e-04,\n",
              "        1.4009200e-04, 3.2012922e-06],\n",
              "       [9.9954587e-01, 7.9242646e-10, 5.4218904e-06, 1.5822366e-07,\n",
              "        4.7550991e-05, 2.0334862e-06, 2.9748009e-04, 8.9524649e-05,\n",
              "        1.1174333e-07, 1.1786353e-05],\n",
              "       [3.9327824e-06, 1.9700616e-08, 1.1182532e-05, 2.0912091e-07,\n",
              "        9.8954433e-01, 1.0499693e-06, 1.2581231e-05, 8.8090062e-05,\n",
              "        2.3666976e-06, 1.0336231e-02]], dtype=float32)>"
            ]
          },
          "metadata": {
            "tags": []
          },
          "execution_count": 8
        }
      ]
    },
    {
      "cell_type": "markdown",
      "metadata": {
        "id": "srU5oj5dg4dS"
      },
      "source": [
        "We can gauge how accurate our predictions are by comparing the prediction with a known result or label.  \n",
        "In order to benefit from multiple layers, we need to add an activation function, without this the layers could practically be collapsed into a single layer (H. Li, Ouyang, & Wang, 2016).  \n",
        "The activation function maps back to the neural structure of biological systems where synaptic inputs are expressed or repressed (Hawkins, 2005) to determine their activation.\n",
        "We can use a range of activation functions, such as RELU - rectified linear units which only activates if the input is above zero.  \n"
      ]
    }
  ]
}